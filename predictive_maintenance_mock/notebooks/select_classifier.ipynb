{
 "cells": [
  {
   "cell_type": "code",
   "execution_count": 1,
   "id": "e5d9befd-26e1-4870-b70f-debea6318f0f",
   "metadata": {},
   "outputs": [],
   "source": [
    "import pandas as pd\n",
    "from sklearn.model_selection import train_test_split\n",
    "from sklearn.preprocessing import StandardScaler\n",
    "from sklearn.metrics import classification_report, confusion_matrix\n",
    "from sklearn.ensemble import RandomForestClassifier\n",
    "from xgboost import XGBClassifier"
   ]
  },
  {
   "cell_type": "code",
   "execution_count": 42,
   "id": "ce951347-44b2-4cc2-b07f-61ffde6bb1ab",
   "metadata": {},
   "outputs": [],
   "source": [
    "# Load synthetic data \n",
    "data_path = \"../data/synthetic_data.csv\"\n",
    "df = pd.read_csv(data_path)\n",
    "\n",
    "# Add rolling statistics for degradation trends\n",
    "window = 6  # 1-hour rolling window (since 6 samples = 1 hour)\n",
    "df['temp_rolling_avg'] = df.groupby('machine_id')['temperature'].transform(\n",
    "    lambda x: x.rolling(window=window, min_periods=1).mean()\n",
    ")\n",
    "df['vibration_rolling_max'] = df.groupby('machine_id')['vibration'].transform(\n",
    "    lambda x: x.rolling(window=window, min_periods=1).max()\n",
    ")\n",
    "\n",
    "# Drop rows with NaN (from rolling stats)\n",
    "df.dropna(inplace=True)\n",
    "\n",
    "# Split into features (X) and target (y)\n",
    "X = df[['temperature', 'pressure', 'vibration', 'temp_rolling_avg', 'vibration_rolling_max']]\n",
    "y = df['failure']\n",
    "\n",
    "# Train-test split (80% train, 20% test)\n",
    "X_train, X_test, y_train, y_test = train_test_split(X, y, test_size=0.2, random_state=42)\n"
   ]
  },
  {
   "cell_type": "code",
   "execution_count": 43,
   "id": "45ddcafa-c7a5-4dd1-959c-67eb0f769c91",
   "metadata": {},
   "outputs": [
    {
     "name": "stdout",
     "output_type": "stream",
     "text": [
      "Evaluation for Random Forest:\n",
      "              precision    recall  f1-score   support\n",
      "\n",
      "           0       0.97      1.00      0.98      2483\n",
      "           1       0.82      0.38      0.52       109\n",
      "\n",
      "    accuracy                           0.97      2592\n",
      "   macro avg       0.90      0.69      0.75      2592\n",
      "weighted avg       0.97      0.97      0.96      2592\n",
      "\n",
      "Confusion Matrix:\n",
      " [[2474    9]\n",
      " [  68   41]]\n",
      "Evaluation for XGBoost:\n",
      "              precision    recall  f1-score   support\n",
      "\n",
      "           0       0.98      0.98      0.98      2483\n",
      "           1       0.62      0.60      0.61       109\n",
      "\n",
      "    accuracy                           0.97      2592\n",
      "   macro avg       0.80      0.79      0.80      2592\n",
      "weighted avg       0.97      0.97      0.97      2592\n",
      "\n",
      "Confusion Matrix:\n",
      " [[2444   39]\n",
      " [  44   65]]\n"
     ]
    }
   ],
   "source": [
    "# Standardize features\n",
    "scaler = StandardScaler()\n",
    "X_train_scaled = scaler.fit_transform(X_train)\n",
    "X_test_scaled = scaler.transform(X_test)\n",
    "\n",
    "# Initialize models\n",
    "rf = RandomForestClassifier(n_estimators=100, random_state=42, class_weight='balanced')\n",
    "xgb = XGBClassifier(n_estimators=100, random_state=42, scale_pos_weight=len(y_train[y_train==0])/len(y_train[y_train==1]))\n",
    "\n",
    "# Train models\n",
    "rf.fit(X_train_scaled, y_train)\n",
    "xgb.fit(X_train_scaled, y_train)\n",
    "\n",
    "# Predictions\n",
    "y_pred_rf = rf.predict(X_test_scaled)\n",
    "y_pred_xgb = xgb.predict(X_test_scaled)\n",
    "\n",
    "def evaluate_model(y_true, y_pred, model_name):\n",
    "    print(f\"Evaluation for {model_name}:\")\n",
    "    print(classification_report(y_true, y_pred))\n",
    "    print(\"Confusion Matrix:\\n\", confusion_matrix(y_true, y_pred))\n",
    "\n",
    "evaluate_model(y_test, y_pred_rf, \"Random Forest\")\n",
    "evaluate_model(y_test, y_pred_xgb, \"XGBoost\")"
   ]
  },
  {
   "cell_type": "code",
   "execution_count": 44,
   "id": "5d92643b-f67e-468b-b34d-e88a8f62eeb4",
   "metadata": {},
   "outputs": [
    {
     "name": "stdout",
     "output_type": "stream",
     "text": [
      "Estimated savings: $0.80M per 2000 samples\n"
     ]
    }
   ],
   "source": [
    "# A/B test simulation on sample with and without model\n",
    "\n",
    "failures_in_test_set = y_test.sum()  # 109 failures\n",
    "cost_control = failures_in_test_set * 10000  \n",
    "cost_test = (0.60 * failures_in_test_set * 2000) + (0.15 * failures_in_test_set * 10000)  # $0.45M\n",
    "savings = cost_control - cost_test  # $1.32M savings\n",
    "print(f\"Estimated savings: ${savings/1e6:.2f}M per 2000 samples\")"
   ]
  },
  {
   "cell_type": "code",
   "execution_count": null,
   "id": "a60163e3-695f-4dcf-8a3a-90dd2ce80d55",
   "metadata": {},
   "outputs": [],
   "source": []
  }
 ],
 "metadata": {
  "kernelspec": {
   "display_name": "Python 3 (ipykernel)",
   "language": "python",
   "name": "python3"
  },
  "language_info": {
   "codemirror_mode": {
    "name": "ipython",
    "version": 3
   },
   "file_extension": ".py",
   "mimetype": "text/x-python",
   "name": "python",
   "nbconvert_exporter": "python",
   "pygments_lexer": "ipython3",
   "version": "3.12.2"
  }
 },
 "nbformat": 4,
 "nbformat_minor": 5
}
