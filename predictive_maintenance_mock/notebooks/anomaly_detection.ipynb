{
 "cells": [
  {
   "cell_type": "code",
   "execution_count": 31,
   "id": "bbfc19a1-5a0b-4db0-b403-10e049fb6115",
   "metadata": {},
   "outputs": [],
   "source": [
    "import pandas as pd\n",
    "import numpy as np\n",
    "import matplotlib.pyplot as plt\n",
    "from sklearn.preprocessing import StandardScaler\n",
    "from sklearn.ensemble import IsolationForest\n",
    "from sklearn.svm import OneClassSVM\n",
    "from sklearn.metrics import classification_report, confusion_matrix\n",
    "\n",
    "\n",
    "# Load data\n",
    "df = pd.read_csv(\"../data/synthetic_data.csv\")\n",
    "\n",
    "# Use only sensor readings (no labels for unsupervised learning)\n",
    "X = df[['temperature', 'pressure', 'vibration']]\n",
    "\n",
    "# Standardize\n",
    "scaler = StandardScaler()\n",
    "X_scaled = scaler.fit_transform(X)"
   ]
  },
  {
   "cell_type": "code",
   "execution_count": 32,
   "id": "f28c1071-d378-419b-9152-4d6fa66ef25c",
   "metadata": {},
   "outputs": [
    {
     "name": "stdout",
     "output_type": "stream",
     "text": [
      "Isolation Forest Performance:\n",
      "              precision    recall  f1-score   support\n",
      "\n",
      "           0       0.97      0.96      0.97     12405\n",
      "           1       0.32      0.37      0.34       555\n",
      "\n",
      "    accuracy                           0.94     12960\n",
      "   macro avg       0.64      0.67      0.65     12960\n",
      "weighted avg       0.94      0.94      0.94     12960\n",
      "\n"
     ]
    }
   ],
   "source": [
    "# Train Isolation Forest\n",
    "iso_forest = IsolationForest(\n",
    "    n_estimators=1000, \n",
    "    contamination=0.05,  # Expected % of anomalies\n",
    "    random_state=42\n",
    ")\n",
    "iso_forest.fit(X_scaled)\n",
    "\n",
    "# Predict anomalies (-1 = anomaly, 1 = normal)\n",
    "iso_pred = iso_forest.predict(X_scaled)\n",
    "df['iso_forest_anomaly'] = np.where(iso_pred == -1, 1, 0)\n",
    "\n",
    "# Evaluate (compare with synthetic \"failure\" labels)\n",
    "print(\"Isolation Forest Performance:\")\n",
    "print(classification_report(df['failure'], df['iso_forest_anomaly']))"
   ]
  },
  {
   "cell_type": "code",
   "execution_count": 33,
   "id": "10915966-ed72-4925-aeb9-27197d216362",
   "metadata": {},
   "outputs": [
    {
     "name": "stdout",
     "output_type": "stream",
     "text": [
      "One-Class SVM Performance:\n",
      "              precision    recall  f1-score   support\n",
      "\n",
      "           0       0.97      0.96      0.96     12405\n",
      "           1       0.21      0.25      0.23       555\n",
      "\n",
      "    accuracy                           0.93     12960\n",
      "   macro avg       0.59      0.60      0.59     12960\n",
      "weighted avg       0.93      0.93      0.93     12960\n",
      "\n"
     ]
    }
   ],
   "source": [
    "# Train One-Class SVM\n",
    "oc_svm = OneClassSVM(\n",
    "    nu=0.05,  #% of expected outliers\n",
    "    kernel='rbf'\n",
    ")\n",
    "oc_svm.fit(X_scaled)\n",
    "\n",
    "# Predict anomalies\n",
    "svm_pred = oc_svm.predict(X_scaled)\n",
    "df['oc_svm_anomaly'] = np.where(svm_pred == -1, 1, 0)\n",
    "\n",
    "# Evaluate\n",
    "print(\"One-Class SVM Performance:\")\n",
    "print(classification_report(df['failure'], df['oc_svm_anomaly']))"
   ]
  },
  {
   "cell_type": "code",
   "execution_count": 34,
   "id": "1f8de598-b9d2-44b6-b8d7-1717c32e4ab4",
   "metadata": {},
   "outputs": [
    {
     "name": "stdout",
     "output_type": "stream",
     "text": [
      "Epoch 1/50, Loss: 0.9283\n",
      "Epoch 2/50, Loss: 0.8146\n",
      "Epoch 3/50, Loss: 0.7689\n",
      "Epoch 4/50, Loss: 0.7444\n",
      "Epoch 5/50, Loss: 0.7285\n",
      "Epoch 6/50, Loss: 0.7107\n",
      "Epoch 7/50, Loss: 0.6977\n",
      "Epoch 8/50, Loss: 0.6854\n",
      "Epoch 9/50, Loss: 0.6744\n",
      "Epoch 10/50, Loss: 0.6642\n",
      "Epoch 11/50, Loss: 0.6551\n",
      "Epoch 12/50, Loss: 0.6461\n",
      "Epoch 13/50, Loss: 0.6383\n",
      "Epoch 14/50, Loss: 0.6310\n",
      "Epoch 15/50, Loss: 0.6239\n",
      "Epoch 16/50, Loss: 0.6178\n",
      "Epoch 17/50, Loss: 0.6127\n",
      "Epoch 18/50, Loss: 0.6071\n",
      "Epoch 19/50, Loss: 0.6018\n",
      "Epoch 20/50, Loss: 0.5969\n",
      "Epoch 21/50, Loss: 0.5932\n",
      "Epoch 22/50, Loss: 0.5893\n",
      "Epoch 23/50, Loss: 0.5871\n",
      "Epoch 24/50, Loss: 0.5823\n",
      "Epoch 25/50, Loss: 0.5793\n",
      "Epoch 26/50, Loss: 0.5767\n",
      "Epoch 27/50, Loss: 0.5740\n",
      "Epoch 28/50, Loss: 0.5713\n",
      "Epoch 29/50, Loss: 0.5690\n",
      "Epoch 30/50, Loss: 0.5666\n",
      "Epoch 31/50, Loss: 0.5653\n",
      "Epoch 32/50, Loss: 0.5629\n",
      "Epoch 33/50, Loss: 0.5616\n",
      "Epoch 34/50, Loss: 0.5593\n",
      "Epoch 35/50, Loss: 0.5576\n",
      "Epoch 36/50, Loss: 0.5561\n",
      "Epoch 37/50, Loss: 0.5548\n",
      "Epoch 38/50, Loss: 0.5539\n",
      "Epoch 39/50, Loss: 0.5520\n",
      "Epoch 40/50, Loss: 0.5510\n",
      "Epoch 41/50, Loss: 0.5499\n",
      "Epoch 42/50, Loss: 0.5486\n",
      "Epoch 43/50, Loss: 0.5477\n",
      "Epoch 44/50, Loss: 0.5464\n",
      "Epoch 45/50, Loss: 0.5460\n",
      "Epoch 46/50, Loss: 0.5447\n",
      "Epoch 47/50, Loss: 0.5441\n",
      "Epoch 48/50, Loss: 0.5428\n",
      "Epoch 49/50, Loss: 0.5422\n",
      "Epoch 50/50, Loss: 0.5420\n"
     ]
    }
   ],
   "source": [
    "import torch\n",
    "import torch.nn as nn\n",
    "import torch.optim as optim\n",
    "from torch.utils.data import DataLoader, TensorDataset\n",
    "\n",
    "# Convert data to PyTorch tensors\n",
    "X_tensor = torch.FloatTensor(X_scaled)\n",
    "dataset = TensorDataset(X_tensor, X_tensor)\n",
    "dataloader = DataLoader(dataset, batch_size=64, shuffle=True)\n",
    "\n",
    "# Define Autoencoder architecture\n",
    "class Autoencoder(nn.Module):\n",
    "    def __init__(self, input_dim=3, encoding_dim=2):\n",
    "        super(Autoencoder, self).__init__()\n",
    "        self.encoder = nn.Sequential(\n",
    "            nn.Linear(input_dim, encoding_dim),\n",
    "            nn.ReLU()\n",
    "        )\n",
    "        self.decoder = nn.Sequential(\n",
    "            nn.Linear(encoding_dim, input_dim),\n",
    "            nn.Identity()  # Linear activation for reconstruction\n",
    "        )\n",
    "    \n",
    "    def forward(self, x):\n",
    "        encoded = self.encoder(x)\n",
    "        decoded = self.decoder(encoded)\n",
    "        return decoded\n",
    "\n",
    "# Initialize model, loss, and optimizer\n",
    "device = torch.device(\"cuda\" if torch.cuda.is_available() else \"cpu\")\n",
    "model = Autoencoder().to(device)\n",
    "criterion = nn.MSELoss()\n",
    "optimizer = optim.Adam(model.parameters(), lr=0.001)\n",
    "\n",
    "# Training loop\n",
    "num_epochs = 50\n",
    "model.train()\n",
    "for epoch in range(num_epochs):\n",
    "    total_loss = 0\n",
    "    for batch_x, _ in dataloader:\n",
    "        batch_x = batch_x.to(device)\n",
    "        optimizer.zero_grad()\n",
    "        outputs = model(batch_x)\n",
    "        loss = criterion(outputs, batch_x)\n",
    "        loss.backward()\n",
    "        optimizer.step()\n",
    "        total_loss += loss.item()\n",
    "    print(f\"Epoch {epoch+1}/{num_epochs}, Loss: {total_loss/len(dataloader):.4f}\")"
   ]
  },
  {
   "cell_type": "code",
   "execution_count": 35,
   "id": "72527bd4-2a05-475d-88ff-3fde03113cf0",
   "metadata": {},
   "outputs": [
    {
     "name": "stdout",
     "output_type": "stream",
     "text": [
      "PyTorch Autoencoder Performance:\n",
      "              precision    recall  f1-score   support\n",
      "\n",
      "           0       0.96      0.95      0.95     12405\n",
      "           1       0.07      0.08      0.07       555\n",
      "\n",
      "    accuracy                           0.91     12960\n",
      "   macro avg       0.51      0.52      0.51     12960\n",
      "weighted avg       0.92      0.91      0.92     12960\n",
      "\n"
     ]
    }
   ],
   "source": [
    "model.eval()\n",
    "with torch.no_grad():\n",
    "    X_tensor = X_tensor.to(device)\n",
    "    reconstructions = model(X_tensor).cpu().numpy()\n",
    "\n",
    "mse = np.mean((X_scaled - reconstructions) ** 2, axis=1)\n",
    "df['autoencoder_anomaly'] = (mse > np.quantile(mse, 0.95)).astype(int)  # Top 5% as anomalies\n",
    "\n",
    "# Evaluate\n",
    "print(\"PyTorch Autoencoder Performance:\")\n",
    "print(classification_report(df['failure'], df['autoencoder_anomaly']))"
   ]
  },
  {
   "cell_type": "code",
   "execution_count": null,
   "id": "27fa38aa-e09d-44d7-99f4-6f1a623a3c92",
   "metadata": {},
   "outputs": [],
   "source": []
  }
 ],
 "metadata": {
  "kernelspec": {
   "display_name": "Python 3 (ipykernel)",
   "language": "python",
   "name": "python3"
  },
  "language_info": {
   "codemirror_mode": {
    "name": "ipython",
    "version": 3
   },
   "file_extension": ".py",
   "mimetype": "text/x-python",
   "name": "python",
   "nbconvert_exporter": "python",
   "pygments_lexer": "ipython3",
   "version": "3.12.2"
  }
 },
 "nbformat": 4,
 "nbformat_minor": 5
}
